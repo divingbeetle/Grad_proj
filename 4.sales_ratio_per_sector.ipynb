{
 "cells": [
  {
   "cell_type": "code",
   "execution_count": 1,
   "metadata": {},
   "outputs": [],
   "source": [
    "import pandas as pd\n",
    "import numpy as np\n",
    "import matplotlib.pyplot as plt"
   ]
  },
  {
   "cell_type": "code",
   "execution_count": 18,
   "metadata": {},
   "outputs": [],
   "source": [
    "dist_df = pd.read_csv('data/상권-추정매출_업종재분류_시계열.csv', encoding='cp949')"
   ]
  },
  {
   "cell_type": "code",
   "execution_count": 19,
   "metadata": {},
   "outputs": [
    {
     "data": {
      "text/html": [
       "<div>\n",
       "<style scoped>\n",
       "    .dataframe tbody tr th:only-of-type {\n",
       "        vertical-align: middle;\n",
       "    }\n",
       "\n",
       "    .dataframe tbody tr th {\n",
       "        vertical-align: top;\n",
       "    }\n",
       "\n",
       "    .dataframe thead th {\n",
       "        text-align: right;\n",
       "    }\n",
       "</style>\n",
       "<table border=\"1\" class=\"dataframe\">\n",
       "  <thead>\n",
       "    <tr style=\"text-align: right;\">\n",
       "      <th></th>\n",
       "      <th>상권_코드</th>\n",
       "      <th>업종_재분류</th>\n",
       "      <th>상권_구분_코드</th>\n",
       "      <th>상권_구분_코드_명</th>\n",
       "      <th>상권_코드_명</th>\n",
       "      <th>엑스좌표_값</th>\n",
       "      <th>와이좌표_값</th>\n",
       "      <th>시군구_코드</th>\n",
       "      <th>행정동_코드</th>\n",
       "      <th>시군구_명</th>\n",
       "      <th>...</th>\n",
       "      <th>2020-Q4</th>\n",
       "      <th>2021-Q1</th>\n",
       "      <th>2021-Q2</th>\n",
       "      <th>2021-Q3</th>\n",
       "      <th>2021-Q4</th>\n",
       "      <th>2022-Q1</th>\n",
       "      <th>2022-Q2</th>\n",
       "      <th>2022-Q3</th>\n",
       "      <th>2022-Q4</th>\n",
       "      <th>2023-Q1</th>\n",
       "    </tr>\n",
       "  </thead>\n",
       "  <tbody>\n",
       "    <tr>\n",
       "      <th>0</th>\n",
       "      <td>3110008</td>\n",
       "      <td>개인교통</td>\n",
       "      <td>A</td>\n",
       "      <td>골목상권</td>\n",
       "      <td>배화여자대학교(박노수미술관)</td>\n",
       "      <td>197093</td>\n",
       "      <td>453418</td>\n",
       "      <td>11110</td>\n",
       "      <td>11110515</td>\n",
       "      <td>종로구</td>\n",
       "      <td>...</td>\n",
       "      <td>120234965.0</td>\n",
       "      <td>142797537.0</td>\n",
       "      <td>164324758.0</td>\n",
       "      <td>207912466.0</td>\n",
       "      <td>205394252.0</td>\n",
       "      <td>97594430.0</td>\n",
       "      <td>198299594.0</td>\n",
       "      <td>184570261.0</td>\n",
       "      <td>187961663.0</td>\n",
       "      <td>163676103.0</td>\n",
       "    </tr>\n",
       "    <tr>\n",
       "      <th>1</th>\n",
       "      <td>3110008</td>\n",
       "      <td>교육</td>\n",
       "      <td>A</td>\n",
       "      <td>골목상권</td>\n",
       "      <td>배화여자대학교(박노수미술관)</td>\n",
       "      <td>197093</td>\n",
       "      <td>453418</td>\n",
       "      <td>11110</td>\n",
       "      <td>11110515</td>\n",
       "      <td>종로구</td>\n",
       "      <td>...</td>\n",
       "      <td>NaN</td>\n",
       "      <td>NaN</td>\n",
       "      <td>NaN</td>\n",
       "      <td>NaN</td>\n",
       "      <td>NaN</td>\n",
       "      <td>NaN</td>\n",
       "      <td>NaN</td>\n",
       "      <td>NaN</td>\n",
       "      <td>NaN</td>\n",
       "      <td>10919665.0</td>\n",
       "    </tr>\n",
       "  </tbody>\n",
       "</table>\n",
       "<p>2 rows × 36 columns</p>\n",
       "</div>"
      ],
      "text/plain": [
       "     상권_코드 업종_재분류 상권_구분_코드 상권_구분_코드_명          상권_코드_명  엑스좌표_값  와이좌표_값  \\\n",
       "0  3110008   개인교통        A       골목상권  배화여자대학교(박노수미술관)  197093  453418   \n",
       "1  3110008     교육        A       골목상권  배화여자대학교(박노수미술관)  197093  453418   \n",
       "\n",
       "   시군구_코드    행정동_코드 시군구_명  ...      2020-Q4      2021-Q1      2021-Q2  \\\n",
       "0   11110  11110515   종로구  ...  120234965.0  142797537.0  164324758.0   \n",
       "1   11110  11110515   종로구  ...          NaN          NaN          NaN   \n",
       "\n",
       "       2021-Q3      2021-Q4     2022-Q1      2022-Q2      2022-Q3  \\\n",
       "0  207912466.0  205394252.0  97594430.0  198299594.0  184570261.0   \n",
       "1          NaN          NaN         NaN          NaN          NaN   \n",
       "\n",
       "       2022-Q4      2023-Q1  \n",
       "0  187961663.0  163676103.0  \n",
       "1          NaN   10919665.0  \n",
       "\n",
       "[2 rows x 36 columns]"
      ]
     },
     "execution_count": 19,
     "metadata": {},
     "output_type": "execute_result"
    }
   ],
   "source": [
    "dist_df.head(2)"
   ]
  },
  {
   "cell_type": "markdown",
   "metadata": {},
   "source": [
    "## 업종별 매출비율 계산"
   ]
  },
  {
   "cell_type": "markdown",
   "metadata": {},
   "source": [
    "2019-Q4 만 사용"
   ]
  },
  {
   "cell_type": "code",
   "execution_count": 20,
   "metadata": {},
   "outputs": [],
   "source": [
    "dist_df = dist_df[['상권_코드', '업종_재분류', '2019-Q4']]"
   ]
  },
  {
   "cell_type": "code",
   "execution_count": 21,
   "metadata": {},
   "outputs": [
    {
     "data": {
      "text/plain": [
       "array(['개인교통', '교육', '기타', '리빙', '뷰티', '숙박', '온라인판매', '외식업', '의료기기',\n",
       "       '패션소품', '편의점', '홈쿡', '병원', '스포츠', '실내다중', '인테리어', '부동산'],\n",
       "      dtype=object)"
      ]
     },
     "execution_count": 21,
     "metadata": {},
     "output_type": "execute_result"
    }
   ],
   "source": [
    "SECTORS = dist_df['업종_재분류'].unique()\n",
    "SECTORS"
   ]
  },
  {
   "cell_type": "code",
   "execution_count": 22,
   "metadata": {},
   "outputs": [
    {
     "data": {
      "text/plain": [
       "상권_코드         0\n",
       "업종_재분류        0\n",
       "2019-Q4    3083\n",
       "dtype: int64"
      ]
     },
     "execution_count": 22,
     "metadata": {},
     "output_type": "execute_result"
    }
   ],
   "source": [
    "dist_df.isna().sum()"
   ]
  },
  {
   "cell_type": "code",
   "execution_count": 23,
   "metadata": {},
   "outputs": [],
   "source": [
    "dist_df.fillna(0, inplace=True)"
   ]
  },
  {
   "cell_type": "code",
   "execution_count": 24,
   "metadata": {},
   "outputs": [
    {
     "name": "stderr",
     "output_type": "stream",
     "text": [
      "C:\\Users\\msl06\\AppData\\Local\\Temp\\ipykernel_18448\\2710576731.py:1: FutureWarning: The default value of numeric_only in DataFrameGroupBy.sum is deprecated. In a future version, numeric_only will default to False. Either specify numeric_only or select only columns which should be valid for the function.\n",
      "  dist_tot = dist_df.groupby('상권_코드').sum().reset_index()\n"
     ]
    }
   ],
   "source": [
    "dist_tot = dist_df.groupby('상권_코드').sum().reset_index()"
   ]
  },
  {
   "cell_type": "code",
   "execution_count": 25,
   "metadata": {},
   "outputs": [
    {
     "data": {
      "text/html": [
       "<div>\n",
       "<style scoped>\n",
       "    .dataframe tbody tr th:only-of-type {\n",
       "        vertical-align: middle;\n",
       "    }\n",
       "\n",
       "    .dataframe tbody tr th {\n",
       "        vertical-align: top;\n",
       "    }\n",
       "\n",
       "    .dataframe thead th {\n",
       "        text-align: right;\n",
       "    }\n",
       "</style>\n",
       "<table border=\"1\" class=\"dataframe\">\n",
       "  <thead>\n",
       "    <tr style=\"text-align: right;\">\n",
       "      <th></th>\n",
       "      <th>상권_코드</th>\n",
       "      <th>2019-Q4</th>\n",
       "    </tr>\n",
       "  </thead>\n",
       "  <tbody>\n",
       "    <tr>\n",
       "      <th>0</th>\n",
       "      <td>3110001</td>\n",
       "      <td>1.629469e+09</td>\n",
       "    </tr>\n",
       "    <tr>\n",
       "      <th>1</th>\n",
       "      <td>3110002</td>\n",
       "      <td>1.063425e+10</td>\n",
       "    </tr>\n",
       "  </tbody>\n",
       "</table>\n",
       "</div>"
      ],
      "text/plain": [
       "     상권_코드       2019-Q4\n",
       "0  3110001  1.629469e+09\n",
       "1  3110002  1.063425e+10"
      ]
     },
     "execution_count": 25,
     "metadata": {},
     "output_type": "execute_result"
    }
   ],
   "source": [
    "dist_tot.head(2)"
   ]
  },
  {
   "cell_type": "code",
   "execution_count": 26,
   "metadata": {},
   "outputs": [],
   "source": [
    "q4_sales_dict = dict(zip(dist_tot['상권_코드'], dist_tot['2019-Q4']))"
   ]
  },
  {
   "cell_type": "code",
   "execution_count": 27,
   "metadata": {},
   "outputs": [],
   "source": [
    "dist_df['q4_sales_total'] = dist_df['상권_코드'].map(q4_sales_dict)"
   ]
  },
  {
   "cell_type": "code",
   "execution_count": 28,
   "metadata": {},
   "outputs": [],
   "source": [
    "dist_df['ratio'] = dist_df['2019-Q4'] / dist_df['q4_sales_total']"
   ]
  },
  {
   "cell_type": "code",
   "execution_count": 29,
   "metadata": {},
   "outputs": [],
   "source": [
    "dist_df.set_index(['상권_코드', '업종_재분류'], inplace=True)"
   ]
  },
  {
   "cell_type": "code",
   "execution_count": 36,
   "metadata": {},
   "outputs": [],
   "source": [
    "sales_df = pd.read_csv('data/resilience_index.csv', encoding='cp949')"
   ]
  },
  {
   "cell_type": "code",
   "execution_count": 37,
   "metadata": {},
   "outputs": [
    {
     "data": {
      "text/html": [
       "<div>\n",
       "<style scoped>\n",
       "    .dataframe tbody tr th:only-of-type {\n",
       "        vertical-align: middle;\n",
       "    }\n",
       "\n",
       "    .dataframe tbody tr th {\n",
       "        vertical-align: top;\n",
       "    }\n",
       "\n",
       "    .dataframe thead th {\n",
       "        text-align: right;\n",
       "    }\n",
       "</style>\n",
       "<table border=\"1\" class=\"dataframe\">\n",
       "  <thead>\n",
       "    <tr style=\"text-align: right;\">\n",
       "      <th></th>\n",
       "      <th>Unnamed: 0</th>\n",
       "      <th>상권_코드</th>\n",
       "      <th>2019-Q4</th>\n",
       "      <th>2020-Q1</th>\n",
       "      <th>2020-Q2</th>\n",
       "      <th>2020-Q3</th>\n",
       "      <th>2020-Q4</th>\n",
       "      <th>2021-Q1</th>\n",
       "      <th>2021-Q2</th>\n",
       "      <th>2021-Q3</th>\n",
       "      <th>...</th>\n",
       "      <th>y_pred_6_dtw</th>\n",
       "      <th>Covid_local_min</th>\n",
       "      <th>t_recovery</th>\n",
       "      <th>d_resistance</th>\n",
       "      <th>d_recovery</th>\n",
       "      <th>d_stability</th>\n",
       "      <th>drop</th>\n",
       "      <th>rebound</th>\n",
       "      <th>res_ratio</th>\n",
       "      <th>resilience</th>\n",
       "    </tr>\n",
       "  </thead>\n",
       "  <tbody>\n",
       "    <tr>\n",
       "      <th>0</th>\n",
       "      <td>0</td>\n",
       "      <td>3110001</td>\n",
       "      <td>0.0</td>\n",
       "      <td>-0.073992</td>\n",
       "      <td>0.037308</td>\n",
       "      <td>-0.020321</td>\n",
       "      <td>0.003290</td>\n",
       "      <td>-0.057947</td>\n",
       "      <td>0.004617</td>\n",
       "      <td>-0.027532</td>\n",
       "      <td>...</td>\n",
       "      <td>0</td>\n",
       "      <td>2020-Q1</td>\n",
       "      <td>2020-Q2</td>\n",
       "      <td>1</td>\n",
       "      <td>1</td>\n",
       "      <td>10</td>\n",
       "      <td>0.156650</td>\n",
       "      <td>0.292112</td>\n",
       "      <td>0.954901</td>\n",
       "      <td>0.741137</td>\n",
       "    </tr>\n",
       "    <tr>\n",
       "      <th>1</th>\n",
       "      <td>1</td>\n",
       "      <td>3110002</td>\n",
       "      <td>0.0</td>\n",
       "      <td>-0.060906</td>\n",
       "      <td>-0.108002</td>\n",
       "      <td>-0.115149</td>\n",
       "      <td>-0.106439</td>\n",
       "      <td>-0.123700</td>\n",
       "      <td>-0.127102</td>\n",
       "      <td>-0.124724</td>\n",
       "      <td>...</td>\n",
       "      <td>2</td>\n",
       "      <td>2021-Q2</td>\n",
       "      <td>2022-Q4</td>\n",
       "      <td>6</td>\n",
       "      <td>6</td>\n",
       "      <td>0</td>\n",
       "      <td>0.253727</td>\n",
       "      <td>0.021693</td>\n",
       "      <td>-0.604138</td>\n",
       "      <td>-0.558667</td>\n",
       "    </tr>\n",
       "  </tbody>\n",
       "</table>\n",
       "<p>2 rows × 30 columns</p>\n",
       "</div>"
      ],
      "text/plain": [
       "   Unnamed: 0    상권_코드  2019-Q4   2020-Q1   2020-Q2   2020-Q3   2020-Q4  \\\n",
       "0           0  3110001      0.0 -0.073992  0.037308 -0.020321  0.003290   \n",
       "1           1  3110002      0.0 -0.060906 -0.108002 -0.115149 -0.106439   \n",
       "\n",
       "    2021-Q1   2021-Q2   2021-Q3  ...  y_pred_6_dtw  Covid_local_min  \\\n",
       "0 -0.057947  0.004617 -0.027532  ...             0          2020-Q1   \n",
       "1 -0.123700 -0.127102 -0.124724  ...             2          2021-Q2   \n",
       "\n",
       "   t_recovery  d_resistance  d_recovery  d_stability      drop   rebound  \\\n",
       "0     2020-Q2             1           1           10  0.156650  0.292112   \n",
       "1     2022-Q4             6           6            0  0.253727  0.021693   \n",
       "\n",
       "   res_ratio  resilience  \n",
       "0   0.954901    0.741137  \n",
       "1  -0.604138   -0.558667  \n",
       "\n",
       "[2 rows x 30 columns]"
      ]
     },
     "execution_count": 37,
     "metadata": {},
     "output_type": "execute_result"
    }
   ],
   "source": [
    "sales_df.head(2)"
   ]
  },
  {
   "cell_type": "code",
   "execution_count": 38,
   "metadata": {},
   "outputs": [],
   "source": [
    "sales_df.drop('Unnamed: 0', axis=1, inplace=True)"
   ]
  },
  {
   "cell_type": "code",
   "execution_count": 39,
   "metadata": {},
   "outputs": [],
   "source": [
    "for sector in SECTORS:\n",
    "    sales_df[f'{sector}_비율'] = sales_df['상권_코드'].apply(\n",
    "        lambda x: dist_df.loc[(x, sector), 'ratio'] \n",
    "        if (x, sector) in dist_df.index else 0)"
   ]
  },
  {
   "cell_type": "code",
   "execution_count": 40,
   "metadata": {},
   "outputs": [
    {
     "data": {
      "text/html": [
       "<div>\n",
       "<style scoped>\n",
       "    .dataframe tbody tr th:only-of-type {\n",
       "        vertical-align: middle;\n",
       "    }\n",
       "\n",
       "    .dataframe tbody tr th {\n",
       "        vertical-align: top;\n",
       "    }\n",
       "\n",
       "    .dataframe thead th {\n",
       "        text-align: right;\n",
       "    }\n",
       "</style>\n",
       "<table border=\"1\" class=\"dataframe\">\n",
       "  <thead>\n",
       "    <tr style=\"text-align: right;\">\n",
       "      <th></th>\n",
       "      <th>상권_코드</th>\n",
       "      <th>2019-Q4</th>\n",
       "      <th>2020-Q1</th>\n",
       "      <th>2020-Q2</th>\n",
       "      <th>2020-Q3</th>\n",
       "      <th>2020-Q4</th>\n",
       "      <th>2021-Q1</th>\n",
       "      <th>2021-Q2</th>\n",
       "      <th>2021-Q3</th>\n",
       "      <th>2021-Q4</th>\n",
       "      <th>...</th>\n",
       "      <th>외식업_비율</th>\n",
       "      <th>의료기기_비율</th>\n",
       "      <th>패션소품_비율</th>\n",
       "      <th>편의점_비율</th>\n",
       "      <th>홈쿡_비율</th>\n",
       "      <th>병원_비율</th>\n",
       "      <th>스포츠_비율</th>\n",
       "      <th>실내다중_비율</th>\n",
       "      <th>인테리어_비율</th>\n",
       "      <th>부동산_비율</th>\n",
       "    </tr>\n",
       "  </thead>\n",
       "  <tbody>\n",
       "    <tr>\n",
       "      <th>0</th>\n",
       "      <td>3110001</td>\n",
       "      <td>0.0</td>\n",
       "      <td>-0.073992</td>\n",
       "      <td>0.037308</td>\n",
       "      <td>-0.020321</td>\n",
       "      <td>0.003290</td>\n",
       "      <td>-0.057947</td>\n",
       "      <td>0.004617</td>\n",
       "      <td>-0.027532</td>\n",
       "      <td>0.019208</td>\n",
       "      <td>...</td>\n",
       "      <td>0.527840</td>\n",
       "      <td>0.000000</td>\n",
       "      <td>0.0</td>\n",
       "      <td>0.147629</td>\n",
       "      <td>0.059447</td>\n",
       "      <td>0.000000</td>\n",
       "      <td>0.017604</td>\n",
       "      <td>0.023376</td>\n",
       "      <td>0.00000</td>\n",
       "      <td>0.0</td>\n",
       "    </tr>\n",
       "    <tr>\n",
       "      <th>1</th>\n",
       "      <td>3110002</td>\n",
       "      <td>0.0</td>\n",
       "      <td>-0.060906</td>\n",
       "      <td>-0.108002</td>\n",
       "      <td>-0.115149</td>\n",
       "      <td>-0.106439</td>\n",
       "      <td>-0.123700</td>\n",
       "      <td>-0.127102</td>\n",
       "      <td>-0.124724</td>\n",
       "      <td>-0.062470</td>\n",
       "      <td>...</td>\n",
       "      <td>0.132358</td>\n",
       "      <td>0.331851</td>\n",
       "      <td>0.0</td>\n",
       "      <td>0.176979</td>\n",
       "      <td>0.018628</td>\n",
       "      <td>0.016632</td>\n",
       "      <td>0.000766</td>\n",
       "      <td>0.012993</td>\n",
       "      <td>0.08734</td>\n",
       "      <td>0.0</td>\n",
       "    </tr>\n",
       "  </tbody>\n",
       "</table>\n",
       "<p>2 rows × 46 columns</p>\n",
       "</div>"
      ],
      "text/plain": [
       "     상권_코드  2019-Q4   2020-Q1   2020-Q2   2020-Q3   2020-Q4   2021-Q1  \\\n",
       "0  3110001      0.0 -0.073992  0.037308 -0.020321  0.003290 -0.057947   \n",
       "1  3110002      0.0 -0.060906 -0.108002 -0.115149 -0.106439 -0.123700   \n",
       "\n",
       "    2021-Q2   2021-Q3   2021-Q4  ...    외식업_비율   의료기기_비율  패션소품_비율    편의점_비율  \\\n",
       "0  0.004617 -0.027532  0.019208  ...  0.527840  0.000000      0.0  0.147629   \n",
       "1 -0.127102 -0.124724 -0.062470  ...  0.132358  0.331851      0.0  0.176979   \n",
       "\n",
       "      홈쿡_비율     병원_비율    스포츠_비율   실내다중_비율  인테리어_비율  부동산_비율  \n",
       "0  0.059447  0.000000  0.017604  0.023376  0.00000     0.0  \n",
       "1  0.018628  0.016632  0.000766  0.012993  0.08734     0.0  \n",
       "\n",
       "[2 rows x 46 columns]"
      ]
     },
     "execution_count": 40,
     "metadata": {},
     "output_type": "execute_result"
    }
   ],
   "source": [
    "sales_df.head(2)"
   ]
  },
  {
   "cell_type": "code",
   "execution_count": 41,
   "metadata": {},
   "outputs": [],
   "source": [
    "sales_df.to_csv('data/dist_stats.csv', index=False, encoding='cp949')"
   ]
  }
 ],
 "metadata": {
  "kernelspec": {
   "display_name": "base",
   "language": "python",
   "name": "python3"
  },
  "language_info": {
   "codemirror_mode": {
    "name": "ipython",
    "version": 3
   },
   "file_extension": ".py",
   "mimetype": "text/x-python",
   "name": "python",
   "nbconvert_exporter": "python",
   "pygments_lexer": "ipython3",
   "version": "3.11.4"
  }
 },
 "nbformat": 4,
 "nbformat_minor": 2
}
