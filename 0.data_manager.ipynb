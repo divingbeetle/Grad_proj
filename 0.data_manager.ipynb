{
 "cells": [
  {
   "cell_type": "code",
   "execution_count": 1,
   "metadata": {},
   "outputs": [],
   "source": [
    "import pandas as pd\n",
    "import os \n",
    "import zipfile"
   ]
  },
  {
   "cell_type": "code",
   "execution_count": 38,
   "metadata": {},
   "outputs": [],
   "source": [
    "YEARS = [2021, 2020, 2019, 2018, 2017]"
   ]
  },
  {
   "cell_type": "code",
   "execution_count": 4,
   "metadata": {},
   "outputs": [],
   "source": [
    "file_type = {'scope': '상권',\n",
    "             'data': '점포',}"
   ]
  },
  {
   "cell_type": "code",
   "execution_count": 5,
   "metadata": {},
   "outputs": [],
   "source": [
    "def main_file_repr(file_type):\n",
    "    return f\"서울시 상권분석서비스({file_type['scope']}-{file_type['data']}).csv\"\n",
    "\n",
    "def yearly_file_repr(file_type, year):\n",
    "    return f\"서울시_우리마을가게_상권분석서비스(신_{file_type['scope']}_{file_type['data']})_{year}년.csv\""
   ]
  },
  {
   "cell_type": "code",
   "execution_count": null,
   "metadata": {},
   "outputs": [],
   "source": [
    "def delete_file(file_path):\n",
    "    if os.path.exists(file_path):\n",
    "        os.remove(file_path)\n",
    "    else:\n",
    "        print(\"NONE\")"
   ]
  },
  {
   "cell_type": "code",
   "execution_count": 16,
   "metadata": {},
   "outputs": [],
   "source": [
    "def unzip_file(zip_path, dest_path=\".\"):\n",
    "    with zipfile.ZipFile(zip_path, 'r') as zip_ref:\n",
    "        zipinfo = zip_ref.infolist()\n",
    "        for info in zipinfo:\n",
    "            info.filename = info.filename.encode('cp437').decode('euc-kr')\n",
    "            zip_ref.extract(info)\n",
    "    delete_file(zip_path)"
   ]
  },
  {
   "cell_type": "code",
   "execution_count": 24,
   "metadata": {},
   "outputs": [],
   "source": [
    "def unzip_files(file_type, YEARS):\n",
    "    for year in YEARS:\n",
    "        zip_name = f\"서울시_상권분석서비스({file_type['scope']}_{file_type['data']})_{year}년.zip\"\n",
    "        if not os.path.exists(zip_name):\n",
    "            print(f\"{zip_name} is not found.\")\n",
    "            continue\n",
    "        unzip_file(zip_name)"
   ]
  },
  {
   "cell_type": "code",
   "execution_count": 17,
   "metadata": {},
   "outputs": [],
   "source": [
    "def concat_df(file_type, YEARS):\n",
    "    main_df = pd.read_csv(main_file_repr(file_type), encoding='cp949')\n",
    "    dfs = [pd.read_csv(yearly_file_repr(file_type, year), encoding='cp949') for year in YEARS]\n",
    "    main_df = pd.concat([main_df] + dfs)\n",
    "    main_df.to_csv(f\"{file_type['scope']}-{file_type['data']}_merged.csv\", encoding='cp949', index=False)\n",
    "    return main_df"
   ]
  },
  {
   "cell_type": "code",
   "execution_count": 18,
   "metadata": {},
   "outputs": [],
   "source": [
    "main_df = concat_df(file_type, YEARS)"
   ]
  },
  {
   "cell_type": "code",
   "execution_count": 19,
   "metadata": {},
   "outputs": [
    {
     "data": {
      "text/html": [
       "<div>\n",
       "<style scoped>\n",
       "    .dataframe tbody tr th:only-of-type {\n",
       "        vertical-align: middle;\n",
       "    }\n",
       "\n",
       "    .dataframe tbody tr th {\n",
       "        vertical-align: top;\n",
       "    }\n",
       "\n",
       "    .dataframe thead th {\n",
       "        text-align: right;\n",
       "    }\n",
       "</style>\n",
       "<table border=\"1\" class=\"dataframe\">\n",
       "  <thead>\n",
       "    <tr style=\"text-align: right;\">\n",
       "      <th></th>\n",
       "      <th>기준_년_코드</th>\n",
       "      <th>기준_분기_코드</th>\n",
       "      <th>상권_구분_코드</th>\n",
       "      <th>상권_구분_코드_명</th>\n",
       "      <th>상권_코드</th>\n",
       "      <th>상권_코드_명</th>\n",
       "      <th>서비스_업종_코드</th>\n",
       "      <th>서비스_업종_코드_명</th>\n",
       "      <th>점포_수</th>\n",
       "      <th>유사_업종_점포_수</th>\n",
       "      <th>개업_율</th>\n",
       "      <th>개업_점포_수</th>\n",
       "      <th>폐업_률</th>\n",
       "      <th>폐업_점포_수</th>\n",
       "      <th>프랜차이즈_점포_수</th>\n",
       "    </tr>\n",
       "  </thead>\n",
       "  <tbody>\n",
       "    <tr>\n",
       "      <th>0</th>\n",
       "      <td>2023</td>\n",
       "      <td>1</td>\n",
       "      <td>U</td>\n",
       "      <td>관광특구</td>\n",
       "      <td>3001496</td>\n",
       "      <td>강남 마이스 관광특구</td>\n",
       "      <td>CS300043</td>\n",
       "      <td>전자상거래업</td>\n",
       "      <td>13</td>\n",
       "      <td>13</td>\n",
       "      <td>0</td>\n",
       "      <td>0</td>\n",
       "      <td>0</td>\n",
       "      <td>0</td>\n",
       "      <td>0</td>\n",
       "    </tr>\n",
       "    <tr>\n",
       "      <th>1</th>\n",
       "      <td>2023</td>\n",
       "      <td>1</td>\n",
       "      <td>U</td>\n",
       "      <td>관광특구</td>\n",
       "      <td>3001496</td>\n",
       "      <td>강남 마이스 관광특구</td>\n",
       "      <td>CS300042</td>\n",
       "      <td>주유소</td>\n",
       "      <td>1</td>\n",
       "      <td>1</td>\n",
       "      <td>0</td>\n",
       "      <td>0</td>\n",
       "      <td>0</td>\n",
       "      <td>0</td>\n",
       "      <td>0</td>\n",
       "    </tr>\n",
       "    <tr>\n",
       "      <th>2</th>\n",
       "      <td>2023</td>\n",
       "      <td>1</td>\n",
       "      <td>U</td>\n",
       "      <td>관광특구</td>\n",
       "      <td>3001496</td>\n",
       "      <td>강남 마이스 관광특구</td>\n",
       "      <td>CS300041</td>\n",
       "      <td>예술품</td>\n",
       "      <td>8</td>\n",
       "      <td>8</td>\n",
       "      <td>0</td>\n",
       "      <td>0</td>\n",
       "      <td>0</td>\n",
       "      <td>0</td>\n",
       "      <td>0</td>\n",
       "    </tr>\n",
       "    <tr>\n",
       "      <th>3</th>\n",
       "      <td>2023</td>\n",
       "      <td>1</td>\n",
       "      <td>U</td>\n",
       "      <td>관광특구</td>\n",
       "      <td>3001496</td>\n",
       "      <td>강남 마이스 관광특구</td>\n",
       "      <td>CS300038</td>\n",
       "      <td>자동차부품</td>\n",
       "      <td>2</td>\n",
       "      <td>2</td>\n",
       "      <td>0</td>\n",
       "      <td>0</td>\n",
       "      <td>0</td>\n",
       "      <td>0</td>\n",
       "      <td>0</td>\n",
       "    </tr>\n",
       "    <tr>\n",
       "      <th>4</th>\n",
       "      <td>2023</td>\n",
       "      <td>1</td>\n",
       "      <td>U</td>\n",
       "      <td>관광특구</td>\n",
       "      <td>3001496</td>\n",
       "      <td>강남 마이스 관광특구</td>\n",
       "      <td>CS300036</td>\n",
       "      <td>조명용품</td>\n",
       "      <td>19</td>\n",
       "      <td>19</td>\n",
       "      <td>0</td>\n",
       "      <td>0</td>\n",
       "      <td>0</td>\n",
       "      <td>0</td>\n",
       "      <td>0</td>\n",
       "    </tr>\n",
       "  </tbody>\n",
       "</table>\n",
       "</div>"
      ],
      "text/plain": [
       "   기준_년_코드  기준_분기_코드 상권_구분_코드 상권_구분_코드_명    상권_코드      상권_코드_명 서비스_업종_코드  \\\n",
       "0     2023         1        U       관광특구  3001496  강남 마이스 관광특구  CS300043   \n",
       "1     2023         1        U       관광특구  3001496  강남 마이스 관광특구  CS300042   \n",
       "2     2023         1        U       관광특구  3001496  강남 마이스 관광특구  CS300041   \n",
       "3     2023         1        U       관광특구  3001496  강남 마이스 관광특구  CS300038   \n",
       "4     2023         1        U       관광특구  3001496  강남 마이스 관광특구  CS300036   \n",
       "\n",
       "  서비스_업종_코드_명  점포_수  유사_업종_점포_수  개업_율  개업_점포_수  폐업_률  폐업_점포_수  프랜차이즈_점포_수  \n",
       "0      전자상거래업    13          13     0        0     0        0           0  \n",
       "1         주유소     1           1     0        0     0        0           0  \n",
       "2         예술품     8           8     0        0     0        0           0  \n",
       "3       자동차부품     2           2     0        0     0        0           0  \n",
       "4        조명용품    19          19     0        0     0        0           0  "
      ]
     },
     "execution_count": 19,
     "metadata": {},
     "output_type": "execute_result"
    }
   ],
   "source": [
    "main_df.head()"
   ]
  },
  {
   "cell_type": "code",
   "execution_count": 20,
   "metadata": {},
   "outputs": [
    {
     "data": {
      "text/plain": [
       "array([2023, 2022, 2021, 2020, 2019, 2018, 2017], dtype=int64)"
      ]
     },
     "execution_count": 20,
     "metadata": {},
     "output_type": "execute_result"
    }
   ],
   "source": [
    "main_df['기준_년_코드'].unique()"
   ]
  }
 ],
 "metadata": {
  "kernelspec": {
   "display_name": "base",
   "language": "python",
   "name": "python3"
  },
  "language_info": {
   "codemirror_mode": {
    "name": "ipython",
    "version": 3
   },
   "file_extension": ".py",
   "mimetype": "text/x-python",
   "name": "python",
   "nbconvert_exporter": "python",
   "pygments_lexer": "ipython3",
   "version": "3.11.4"
  },
  "orig_nbformat": 4
 },
 "nbformat": 4,
 "nbformat_minor": 2
}
